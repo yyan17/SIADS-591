{
 "cells": [
  {
   "cell_type": "markdown",
   "metadata": {},
   "source": [
    "<h1><b><center>Vaccine Stock Analysis during the COVID-19 Pandemic</center></b></h1>"
   ]
  },
  {
   "cell_type": "code",
   "execution_count": 40,
   "metadata": {},
   "outputs": [],
   "source": [
    "import numpy as np\n",
    "import pandas as pd\n",
    "\n",
    "from functools import reduce"
   ]
  },
  {
   "cell_type": "markdown",
   "metadata": {},
   "source": [
    "<h3>Covid Dataset</h3>"
   ]
  },
  {
   "cell_type": "code",
   "execution_count": 41,
   "metadata": {},
   "outputs": [],
   "source": [
    "df = pd.read_csv(\"epidemiology.csv\")\n",
    "# TODO: covid data set manipulations.\n"
   ]
  },
  {
   "cell_type": "markdown",
   "metadata": {},
   "source": [
    "<h3>Stock Datasts</h3>"
   ]
  },
  {
   "cell_type": "code",
   "execution_count": 42,
   "metadata": {},
   "outputs": [],
   "source": [
    "df2 = pd.read_csv(\"moderna.csv\")\n",
    "moderna_df = df2[['date', 'close', 'volume', 'rsi']]\n",
    "\n",
    "df3 = pd.read_csv(\"jnj.csv\")\n",
    "jnj_df = df3[['date', 'close', 'volume', 'rsi']]\n",
    "\n",
    "df4 = pd.read_csv(\"astra-zeneca.csv\")\n",
    "astra_zeneca_df = df4[['date', 'close', 'volume', 'rsi']]\n",
    "\n",
    "df5 = pd.read_csv(\"biontech.csv\")\n",
    "biontech_df = df5[['date', 'close', 'volume', 'rsi']]\n",
    "\n",
    "df6 = pd.read_csv(\"novavax.csv\")\n",
    "novavax_df = df6[['date', 'close', 'volume', 'rsi']]\n",
    "\n",
    "df7 = pd.read_csv(\"pfizer.csv\")\n",
    "pfizer_df = df7[['date', 'close', 'volume', 'rsi']]"
   ]
  },
  {
   "cell_type": "markdown",
   "metadata": {},
   "source": [
    "<h3>Merge Datasets</h3>"
   ]
  },
  {
   "cell_type": "code",
   "execution_count": 43,
   "metadata": {},
   "outputs": [
    {
     "data": {
      "text/plain": [
       "date                           object\n",
       "moderna_closing_price         float64\n",
       "moderna_volume                float64\n",
       "moderna_rsi                   float64\n",
       "jnj_closing_price             float64\n",
       "jnj_volume                    float64\n",
       "jnj_rsi                       float64\n",
       "astra_zeneca_closing_price    float64\n",
       "astra_zeneca_volume           float64\n",
       "astra_zeneca_rsi              float64\n",
       "biontech_closing_price        float64\n",
       "biontech_volume               float64\n",
       "biontech_rsi                  float64\n",
       "novavax_closing_price         float64\n",
       "novavax_volume                float64\n",
       "novavax_rsi                   float64\n",
       "pfizer_closing_price          float64\n",
       "pfizer_volume                 float64\n",
       "pfizer_rsi                    float64\n",
       "dtype: object"
      ]
     },
     "execution_count": 43,
     "metadata": {},
     "output_type": "execute_result"
    }
   ],
   "source": [
    "# TODO: add covid dataset in data_frames list\n",
    "\n",
    "data_frames = [moderna_df, jnj_df, astra_zeneca_df, biontech_df, novavax_df, pfizer_df]\n",
    "\n",
    "df_merged = reduce(lambda left, right: pd.merge(left, right, on=['date'], how='outer'), data_frames)\n",
    "\n",
    "#TODO: rename dataframe columns after merging covid dataset.\n",
    "df_merged.columns = ['date', 'moderna_closing_price', 'moderna_volume', 'moderna_rsi', 'jnj_closing_price', 'jnj_volume', 'jnj_rsi', 'astra_zeneca_closing_price', 'astra_zeneca_volume', 'astra_zeneca_rsi', 'biontech_closing_price', 'biontech_volume', 'biontech_rsi', 'novavax_closing_price', 'novavax_volume', 'novavax_rsi', 'pfizer_closing_price', 'pfizer_volume', 'pfizer_rsi']\n",
    "\n",
    "df_merged.dtypes\n"
   ]
  },
  {
   "cell_type": "markdown",
   "metadata": {},
   "source": [
    "<h2>Data Analysis</h2>"
   ]
  },
  {
   "cell_type": "markdown",
   "metadata": {},
   "source": [
    "<h3>Q1: How did each pharmaceutical stock perform during the pandemic, and is there a trend between performance and COVID-19 cases?</h3>"
   ]
  },
  {
   "cell_type": "code",
   "execution_count": null,
   "metadata": {},
   "outputs": [],
   "source": []
  },
  {
   "cell_type": "markdown",
   "metadata": {},
   "source": [
    "<h3>Q2: Is there a positive or negative relationship between COVID-19 cases and pharmaceutical stock prices of the aforementioned companies? Could a rise in COVID-19 cases be used as a factor to predict a rise in pharmaceutical stock prices?\n",
    "</h3>"
   ]
  },
  {
   "cell_type": "code",
   "execution_count": null,
   "metadata": {},
   "outputs": [],
   "source": []
  },
  {
   "cell_type": "markdown",
   "metadata": {},
   "source": [
    "<h3>Q3: Assuming there is a pattern/relationship, what are the nuances that explain any breaks from the pattern between COVID-19 cases and stock prices? \n",
    "</h3>"
   ]
  },
  {
   "cell_type": "code",
   "execution_count": null,
   "metadata": {},
   "outputs": [],
   "source": []
  }
 ],
 "metadata": {
  "kernelspec": {
   "display_name": "Python 3",
   "language": "python",
   "name": "python3"
  },
  "language_info": {
   "codemirror_mode": {
    "name": "ipython",
    "version": 3
   },
   "file_extension": ".py",
   "mimetype": "text/x-python",
   "name": "python",
   "nbconvert_exporter": "python",
   "pygments_lexer": "ipython3",
   "version": "3.7.3"
  }
 },
 "nbformat": 4,
 "nbformat_minor": 2
}
